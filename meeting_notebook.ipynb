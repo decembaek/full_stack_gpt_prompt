{
 "cells": [
  {
   "cell_type": "code",
   "execution_count": 1,
   "metadata": {},
   "outputs": [],
   "source": [
    "import subprocess"
   ]
  },
  {
   "cell_type": "code",
   "execution_count": 6,
   "metadata": {},
   "outputs": [],
   "source": [
    "def youtube_url_video_download(url):\n",
    "    command = [\"ffmpeg\", \"-i\", url, \"-c\", \"copy\", \"output.mp4\"]\n",
    "    subprocess.run(command)"
   ]
  },
  {
   "cell_type": "code",
   "execution_count": 10,
   "metadata": {},
   "outputs": [
    {
     "name": "stderr",
     "output_type": "stream",
     "text": [
      "ffmpeg version 7.1 Copyright (c) 2000-2024 the FFmpeg developers\n",
      "  built with Apple clang version 16.0.0 (clang-1600.0.26.4)\n",
      "  configuration: --prefix=/opt/homebrew/Cellar/ffmpeg/7.1_3 --enable-shared --enable-pthreads --enable-version3 --cc=clang --host-cflags= --host-ldflags='-Wl,-ld_classic' --enable-ffplay --enable-gnutls --enable-gpl --enable-libaom --enable-libaribb24 --enable-libbluray --enable-libdav1d --enable-libharfbuzz --enable-libjxl --enable-libmp3lame --enable-libopus --enable-librav1e --enable-librist --enable-librubberband --enable-libsnappy --enable-libsrt --enable-libssh --enable-libsvtav1 --enable-libtesseract --enable-libtheora --enable-libvidstab --enable-libvmaf --enable-libvorbis --enable-libvpx --enable-libwebp --enable-libx264 --enable-libx265 --enable-libxml2 --enable-libxvid --enable-lzma --enable-libfontconfig --enable-libfreetype --enable-frei0r --enable-libass --enable-libopencore-amrnb --enable-libopencore-amrwb --enable-libopenjpeg --enable-libspeex --enable-libsoxr --enable-libzmq --enable-libzimg --disable-libjack --disable-indev=jack --enable-videotoolbox --enable-audiotoolbox --enable-neon\n",
      "  libavutil      59. 39.100 / 59. 39.100\n",
      "  libavcodec     61. 19.100 / 61. 19.100\n",
      "  libavformat    61.  7.100 / 61.  7.100\n",
      "  libavdevice    61.  3.100 / 61.  3.100\n",
      "  libavfilter    10.  4.100 / 10.  4.100\n",
      "  libswscale      8.  3.100 /  8.  3.100\n",
      "  libswresample   5.  3.100 /  5.  3.100\n",
      "  libpostproc    58.  3.100 / 58.  3.100\n",
      "Input #0, mov,mp4,m4a,3gp,3g2,mj2, from 'https://rr2---sn-3u-jw0l.googlevideo.com/videoplayback?expire=1734976022&ei=tk1pZ-adK5zv7OsP9YzFuQ8&ip=211.228.102.179&id=o-AC5cIeKEJOoJAB0OzOurW93B8Cm3MuyoessSH-tNFvhm&itag=137&source=youtube&requiressl=yes&xpc=EgVo2aDSNQ%3D%3D&met=1734954422%2C&mh=RX&mm=31%2C29&mn=sn-3u-jw0l%2Csn-3u-bh2z6&ms=au%2Crdu&mv=m&mvi=2&pcm2cms=yes&pl=22&rms=au%2Cau&initcwndbps=4371250&bui=AfMhrI-6w71PMTQoTDIi3J2qN6w_JtCaW_9LZL66oVhmKmWVySn1wv8N7EsN1HiFSyETtWuwDViNuyes&spc=x-caUAurAt8Ucu6B3UY1RuLitr-IWmumyMF1ZixBqJDXO1nUlzIh&vprv=1&svpuc=1&mime=video%2Fmp4&rqh=1&gir=yes&clen=79993762&dur=687.399&lmt=1726453787695657&mt=1734953842&fvip=5&keepalive=yes&fexp=51326932%2C51335594%2C51371294&c=IOS&txp=6208224&sparams=expire%2Cei%2Cip%2Cid%2Citag%2Csource%2Crequiressl%2Cxpc%2Cbui%2Cspc%2Cvprv%2Csvpuc%2Cmime%2Crqh%2Cgir%2Cclen%2Cdur%2Clmt&sig=AJfQdSswRgIhALIfOPBKGrkpO5AyYdvJpVw3xXilfHIRx11as3Ukw_5lAiEA9FvVeAWUjiXac9zvGUBehWu_l2NumlpHDi3QjpdRR0Y%3D&lsparams=met%2Cmh%2Cmm%2Cmn%2Cms%2Cmv%2Cmvi%2Cpcm2cms%2Cpl%2Crms%2Cinitcwndbps&lsig=AGluJ3MwRQIhAMtcVe9bSp0VKuTHpm3tII6eEW63DEWp18JXB-JH1JctAiAK96jbkawHLf8iQ7uDFjpLaWtvO9R0KdY1LjxF4GDhJw%3D%3D':\n",
      "  Metadata:\n",
      "    major_brand     : dash\n",
      "    minor_version   : 0\n",
      "    compatible_brands: iso6avc1mp41\n",
      "    creation_time   : 2024-09-16T01:29:52.000000Z\n",
      "  Duration: 00:11:27.40, start: 0.000000, bitrate: 930 kb/s\n",
      "  Stream #0:0[0x1](und): Video: h264 (High) (avc1 / 0x31637661), yuv420p(tv, bt709, progressive), 1920x1080 [SAR 1:1 DAR 16:9], 2377 kb/s, 30 fps, 30 tbr, 15360 tbn (default)\n",
      "      Metadata:\n",
      "        creation_time   : 2024-09-16T01:29:52.000000Z\n",
      "        handler_name    : ISO Media file produced by Google Inc.\n",
      "        vendor_id       : [0][0][0][0]\n",
      "Stream mapping:\n",
      "  Stream #0:0 -> #0:0 (copy)\n",
      "Output #0, mp4, to 'output.mp4':\n",
      "  Metadata:\n",
      "    major_brand     : dash\n",
      "    minor_version   : 0\n",
      "    compatible_brands: iso6avc1mp41\n",
      "    encoder         : Lavf61.7.100\n",
      "  Stream #0:0(und): Video: h264 (High) (avc1 / 0x31637661), yuv420p(tv, bt709, progressive), 1920x1080 [SAR 1:1 DAR 16:9], q=2-31, 2377 kb/s, 30 fps, 30 tbr, 15360 tbn (default)\n",
      "      Metadata:\n",
      "        creation_time   : 2024-09-16T01:29:52.000000Z\n",
      "        handler_name    : ISO Media file produced by Google Inc.\n",
      "        vendor_id       : [0][0][0][0]\n",
      "Press [q] to stop, [?] for help\n",
      "[out#0/mp4 @ 0x137805220] video:77860KiB audio:0KiB subtitle:0KiB other streams:0KiB global headers:0KiB muxing overhead: 0.241466%\n",
      "frame=20622 fps= 60 q=-1.0 Lsize=   78048KiB time=00:11:27.36 bitrate= 930.2kbits/s speed=2.01x    \n"
     ]
    }
   ],
   "source": [
    "# brew install yt-dlp\n",
    "# yt-dlp -g \"https://www.youtube.com/watch?v=wVpOboIlZ5I&t=5s\"\n",
    "# -> 나온 url 을 가지고 아래 다운로드\n",
    "\n",
    "url = \"https://rr2---sn-3u-jw0l.googlevideo.com/videoplayback?expire=1734976022&ei=tk1pZ-adK5zv7OsP9YzFuQ8&ip=211.228.102.179&id=o-AC5cIeKEJOoJAB0OzOurW93B8Cm3MuyoessSH-tNFvhm&itag=137&source=youtube&requiressl=yes&xpc=EgVo2aDSNQ%3D%3D&met=1734954422%2C&mh=RX&mm=31%2C29&mn=sn-3u-jw0l%2Csn-3u-bh2z6&ms=au%2Crdu&mv=m&mvi=2&pcm2cms=yes&pl=22&rms=au%2Cau&initcwndbps=4371250&bui=AfMhrI-6w71PMTQoTDIi3J2qN6w_JtCaW_9LZL66oVhmKmWVySn1wv8N7EsN1HiFSyETtWuwDViNuyes&spc=x-caUAurAt8Ucu6B3UY1RuLitr-IWmumyMF1ZixBqJDXO1nUlzIh&vprv=1&svpuc=1&mime=video%2Fmp4&rqh=1&gir=yes&clen=79993762&dur=687.399&lmt=1726453787695657&mt=1734953842&fvip=5&keepalive=yes&fexp=51326932%2C51335594%2C51371294&c=IOS&txp=6208224&sparams=expire%2Cei%2Cip%2Cid%2Citag%2Csource%2Crequiressl%2Cxpc%2Cbui%2Cspc%2Cvprv%2Csvpuc%2Cmime%2Crqh%2Cgir%2Cclen%2Cdur%2Clmt&sig=AJfQdSswRgIhALIfOPBKGrkpO5AyYdvJpVw3xXilfHIRx11as3Ukw_5lAiEA9FvVeAWUjiXac9zvGUBehWu_l2NumlpHDi3QjpdRR0Y%3D&lsparams=met%2Cmh%2Cmm%2Cmn%2Cms%2Cmv%2Cmvi%2Cpcm2cms%2Cpl%2Crms%2Cinitcwndbps&lsig=AGluJ3MwRQIhAMtcVe9bSp0VKuTHpm3tII6eEW63DEWp18JXB-JH1JctAiAK96jbkawHLf8iQ7uDFjpLaWtvO9R0KdY1LjxF4GDhJw%3D%3D\"\n",
    "youtube_url_video_download(url=url)"
   ]
  },
  {
   "cell_type": "code",
   "execution_count": 4,
   "metadata": {},
   "outputs": [],
   "source": [
    "def extract_audio_from_video(video_path, audio_path):\n",
    "    command = [\"ffmpeg\", \"-i\", video_path, \"-vn\", audio_path]\n",
    "    subprocess.run(command)"
   ]
  },
  {
   "cell_type": "code",
   "execution_count": 12,
   "metadata": {},
   "outputs": [
    {
     "name": "stderr",
     "output_type": "stream",
     "text": [
      "ffmpeg version 7.1 Copyright (c) 2000-2024 the FFmpeg developers\n",
      "  built with Apple clang version 16.0.0 (clang-1600.0.26.4)\n",
      "  configuration: --prefix=/opt/homebrew/Cellar/ffmpeg/7.1_3 --enable-shared --enable-pthreads --enable-version3 --cc=clang --host-cflags= --host-ldflags='-Wl,-ld_classic' --enable-ffplay --enable-gnutls --enable-gpl --enable-libaom --enable-libaribb24 --enable-libbluray --enable-libdav1d --enable-libharfbuzz --enable-libjxl --enable-libmp3lame --enable-libopus --enable-librav1e --enable-librist --enable-librubberband --enable-libsnappy --enable-libsrt --enable-libssh --enable-libsvtav1 --enable-libtesseract --enable-libtheora --enable-libvidstab --enable-libvmaf --enable-libvorbis --enable-libvpx --enable-libwebp --enable-libx264 --enable-libx265 --enable-libxml2 --enable-libxvid --enable-lzma --enable-libfontconfig --enable-libfreetype --enable-frei0r --enable-libass --enable-libopencore-amrnb --enable-libopencore-amrwb --enable-libopenjpeg --enable-libspeex --enable-libsoxr --enable-libzmq --enable-libzimg --disable-libjack --disable-indev=jack --enable-videotoolbox --enable-audiotoolbox --enable-neon\n",
      "  libavutil      59. 39.100 / 59. 39.100\n",
      "  libavcodec     61. 19.100 / 61. 19.100\n",
      "  libavformat    61.  7.100 / 61.  7.100\n",
      "  libavdevice    61.  3.100 / 61.  3.100\n",
      "  libavfilter    10.  4.100 / 10.  4.100\n",
      "  libswscale      8.  3.100 /  8.  3.100\n",
      "  libswresample   5.  3.100 /  5.  3.100\n",
      "  libpostproc    58.  3.100 / 58.  3.100\n",
      "Input #0, mov,mp4,m4a,3gp,3g2,mj2, from 'files/msa_video.mp4':\n",
      "  Metadata:\n",
      "    major_brand     : mp42\n",
      "    minor_version   : 0\n",
      "    compatible_brands: isommp42\n",
      "    creation_time   : 2024-09-16T01:29:48.000000Z\n",
      "    encoder         : Google\n",
      "  Duration: 00:11:27.40, start: 0.000000, bitrate: 290 kb/s\n",
      "  Stream #0:0[0x1](und): Video: h264 (Main) (avc1 / 0x31637661), yuv420p(tv, bt709, progressive), 640x360 [SAR 1:1 DAR 16:9], 158 kb/s, 30 fps, 30 tbr, 15360 tbn (default)\n",
      "      Metadata:\n",
      "        creation_time   : 2024-09-16T01:29:48.000000Z\n",
      "        handler_name    : ISO Media file produced by Google Inc. Created on: 09/15/2024.\n",
      "        vendor_id       : [0][0][0][0]\n",
      "  Stream #0:1[0x2](und): Audio: aac (LC) (mp4a / 0x6134706D), 44100 Hz, stereo, fltp, 127 kb/s (default)\n",
      "      Metadata:\n",
      "        creation_time   : 2024-09-16T01:29:48.000000Z\n",
      "        handler_name    : ISO Media file produced by Google Inc. Created on: 09/15/2024.\n",
      "        vendor_id       : [0][0][0][0]\n",
      "Stream mapping:\n",
      "  Stream #0:1 -> #0:0 (aac (native) -> mp3 (libmp3lame))\n",
      "Press [q] to stop, [?] for help\n",
      "Output #0, mp3, to 'files/mas_video.mp3':\n",
      "  Metadata:\n",
      "    major_brand     : mp42\n",
      "    minor_version   : 0\n",
      "    compatible_brands: isommp42\n",
      "    TSSE            : Lavf61.7.100\n",
      "  Stream #0:0(und): Audio: mp3, 44100 Hz, stereo, fltp (default)\n",
      "      Metadata:\n",
      "        creation_time   : 2024-09-16T01:29:48.000000Z\n",
      "        handler_name    : ISO Media file produced by Google Inc. Created on: 09/15/2024.\n",
      "        vendor_id       : [0][0][0][0]\n",
      "        encoder         : Lavc61.19.100 libmp3lame\n",
      "[out#0/mp3 @ 0x12c604d00] video:0KiB audio:10741KiB subtitle:0KiB other streams:0KiB global headers:0KiB muxing overhead: 0.003137%\n",
      "size=   10742KiB time=00:11:27.40 bitrate= 128.0kbits/s speed= 149x    \n"
     ]
    }
   ],
   "source": [
    "extract_audio_from_video(\"files/msa_video.mp4\", \"files/mas_video.mp3\")"
   ]
  },
  {
   "cell_type": "code",
   "execution_count": null,
   "metadata": {},
   "outputs": [],
   "source": []
  }
 ],
 "metadata": {
  "kernelspec": {
   "display_name": "venv",
   "language": "python",
   "name": "python3"
  },
  "language_info": {
   "codemirror_mode": {
    "name": "ipython",
    "version": 3
   },
   "file_extension": ".py",
   "mimetype": "text/x-python",
   "name": "python",
   "nbconvert_exporter": "python",
   "pygments_lexer": "ipython3",
   "version": "3.10.16"
  }
 },
 "nbformat": 4,
 "nbformat_minor": 2
}
